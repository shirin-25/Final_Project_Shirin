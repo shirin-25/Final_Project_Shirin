{
 "cells": [
  {
   "cell_type": "code",
   "execution_count": 1,
   "id": "fc4e2ac0",
   "metadata": {},
   "outputs": [],
   "source": [
    "import pandas as pd\n",
    "import numpy as np\n",
    "import matplotlib.pyplot as plt\n",
    "%matplotlib inline \n",
    "import seaborn as sns \n",
    "#from pandas_profiling import ProfileReport"
   ]
  },
  {
   "cell_type": "code",
   "execution_count": 2,
   "id": "60e90a14",
   "metadata": {},
   "outputs": [],
   "source": [
    "df=pd.read_csv(r'/Users/akbare/Downloads/wifi_GSA.csv')"
   ]
  },
  {
   "cell_type": "code",
   "execution_count": 3,
   "id": "c56e08b4",
   "metadata": {},
   "outputs": [],
   "source": [
    "#profile = ProfileReport(df, title=\"Pandas Profiling Report\")"
   ]
  },
  {
   "cell_type": "code",
   "execution_count": 4,
   "id": "f79e367d",
   "metadata": {},
   "outputs": [],
   "source": [
    "#profile"
   ]
  },
  {
   "cell_type": "code",
   "execution_count": 5,
   "id": "b075f66d",
   "metadata": {},
   "outputs": [
    {
     "data": {
      "text/plain": [
       "Index(['Unnamed: 0', 'Code Site', 'Date heure début', 'Date heure fin',\n",
       "       'Temps de session en secondes', 'Temps de sessions en minutes',\n",
       "       'Nom du site', 'Code postal', 'Type d'appareil',\n",
       "       'Constructeur appareil', 'Version système exploitation',\n",
       "       'Version navigateur', 'Donnée entrante (Octet)',\n",
       "       'Donnée entrante (MégaOctet)', 'Donnée sortante (Octet)',\n",
       "       'Donnée sortante (MégaOctet)', 'Paquets entrants', 'Paquets sortants',\n",
       "       'Langue utilisateur', 'Geometry', 'Adresse', 'Nom du site.1',\n",
       "       'Code postal.1', 'Nombre de bornes', 'Etat du site', 'Latitude',\n",
       "       'Longitude'],\n",
       "      dtype='object')"
      ]
     },
     "execution_count": 5,
     "metadata": {},
     "output_type": "execute_result"
    }
   ],
   "source": [
    "df.columns"
   ]
  },
  {
   "cell_type": "code",
   "execution_count": 6,
   "id": "7edbbb81",
   "metadata": {},
   "outputs": [
    {
     "data": {
      "text/plain": [
       "Unnamed: 0                        int64\n",
       "Code Site                        object\n",
       "Date heure début                 object\n",
       "Date heure fin                   object\n",
       "Temps de session en secondes      int64\n",
       "Temps de sessions en minutes    float64\n",
       "Nom du site                      object\n",
       "Code postal                     float64\n",
       "Type d'appareil                  object\n",
       "Constructeur appareil            object\n",
       "Version système exploitation     object\n",
       "Version navigateur               object\n",
       "Donnée entrante (Octet)           int64\n",
       "Donnée entrante (MégaOctet)     float64\n",
       "Donnée sortante (Octet)           int64\n",
       "Donnée sortante (MégaOctet)     float64\n",
       "Paquets entrants                  int64\n",
       "Paquets sortants                  int64\n",
       "Langue utilisateur               object\n",
       "Geometry                         object\n",
       "Adresse                          object\n",
       "Nom du site.1                    object\n",
       "Code postal.1                   float64\n",
       "Nombre de bornes                float64\n",
       "Etat du site                     object\n",
       "Latitude                        float64\n",
       "Longitude                       float64\n",
       "dtype: object"
      ]
     },
     "execution_count": 6,
     "metadata": {},
     "output_type": "execute_result"
    }
   ],
   "source": [
    "df.dtypes"
   ]
  },
  {
   "cell_type": "code",
   "execution_count": 7,
   "id": "0d48d25b",
   "metadata": {},
   "outputs": [],
   "source": [
    "df.rename(columns = {'Type d\\'appareil':'Type Appareil'}, inplace = True)"
   ]
  },
  {
   "cell_type": "code",
   "execution_count": 8,
   "id": "970d3e41",
   "metadata": {},
   "outputs": [
    {
     "data": {
      "text/html": [
       "<div>\n",
       "<style scoped>\n",
       "    .dataframe tbody tr th:only-of-type {\n",
       "        vertical-align: middle;\n",
       "    }\n",
       "\n",
       "    .dataframe tbody tr th {\n",
       "        vertical-align: top;\n",
       "    }\n",
       "\n",
       "    .dataframe thead th {\n",
       "        text-align: right;\n",
       "    }\n",
       "</style>\n",
       "<table border=\"1\" class=\"dataframe\">\n",
       "  <thead>\n",
       "    <tr style=\"text-align: right;\">\n",
       "      <th></th>\n",
       "      <th>Unnamed: 0</th>\n",
       "      <th>Code Site</th>\n",
       "      <th>Date heure début</th>\n",
       "      <th>Date heure fin</th>\n",
       "      <th>Temps de session en secondes</th>\n",
       "      <th>Temps de sessions en minutes</th>\n",
       "      <th>Nom du site</th>\n",
       "      <th>Code postal</th>\n",
       "      <th>Type Appareil</th>\n",
       "      <th>Constructeur appareil</th>\n",
       "      <th>...</th>\n",
       "      <th>Paquets sortants</th>\n",
       "      <th>Langue utilisateur</th>\n",
       "      <th>Geometry</th>\n",
       "      <th>Adresse</th>\n",
       "      <th>Nom du site.1</th>\n",
       "      <th>Code postal.1</th>\n",
       "      <th>Nombre de bornes</th>\n",
       "      <th>Etat du site</th>\n",
       "      <th>Latitude</th>\n",
       "      <th>Longitude</th>\n",
       "    </tr>\n",
       "  </thead>\n",
       "  <tbody>\n",
       "    <tr>\n",
       "      <th>0</th>\n",
       "      <td>0</td>\n",
       "      <td>PW0191</td>\n",
       "      <td>2019-09-01 13:30:00+00:00</td>\n",
       "      <td>2019-09-01 13:34:00+00:00</td>\n",
       "      <td>209</td>\n",
       "      <td>3.483333</td>\n",
       "      <td>JARD GARCIA LORCA-SQ HDV</td>\n",
       "      <td>75004.0</td>\n",
       "      <td>Mobile</td>\n",
       "      <td>Apple</td>\n",
       "      <td>...</td>\n",
       "      <td>6004</td>\n",
       "      <td>Français</td>\n",
       "      <td>{\"coordinates\": [2.353240934, 48.8547105055], ...</td>\n",
       "      <td>QUAI DE L'HOTEL DE VILLE</td>\n",
       "      <td>JARD GARCIA LORCA-SQ HDV</td>\n",
       "      <td>75004.0</td>\n",
       "      <td>1.0</td>\n",
       "      <td>Opérationnel</td>\n",
       "      <td>2.353241</td>\n",
       "      <td>48.854711</td>\n",
       "    </tr>\n",
       "    <tr>\n",
       "      <th>1</th>\n",
       "      <td>1</td>\n",
       "      <td>PW0122-1</td>\n",
       "      <td>2019-09-01 13:27:00+00:00</td>\n",
       "      <td>2019-09-01 13:43:00+00:00</td>\n",
       "      <td>963</td>\n",
       "      <td>16.050000</td>\n",
       "      <td>HDV RDC</td>\n",
       "      <td>75004.0</td>\n",
       "      <td>Mobile</td>\n",
       "      <td>HUAWEI</td>\n",
       "      <td>...</td>\n",
       "      <td>38287</td>\n",
       "      <td>Français</td>\n",
       "      <td>{\"coordinates\": [2.352388267, 48.856389683], \"...</td>\n",
       "      <td>4 PLACE DE L'HOTEL DE VILLE</td>\n",
       "      <td>HDV RDC</td>\n",
       "      <td>75004.0</td>\n",
       "      <td>4.0</td>\n",
       "      <td>Opérationnel</td>\n",
       "      <td>2.352388</td>\n",
       "      <td>48.856390</td>\n",
       "    </tr>\n",
       "    <tr>\n",
       "      <th>2</th>\n",
       "      <td>2</td>\n",
       "      <td>PW0110</td>\n",
       "      <td>2019-09-01 13:30:00+00:00</td>\n",
       "      <td>2019-09-01 13:53:00+00:00</td>\n",
       "      <td>1402</td>\n",
       "      <td>23.366667</td>\n",
       "      <td>JARD NELSON MANDELA</td>\n",
       "      <td>75001.0</td>\n",
       "      <td>Mobile</td>\n",
       "      <td>autre</td>\n",
       "      <td>...</td>\n",
       "      <td>20012</td>\n",
       "      <td>Français</td>\n",
       "      <td>{\"coordinates\": [2.346303724, 48.8614694222], ...</td>\n",
       "      <td>32 RUE BERGER</td>\n",
       "      <td>JARD NELSON MANDELA</td>\n",
       "      <td>75001.0</td>\n",
       "      <td>2.0</td>\n",
       "      <td>Opérationnel</td>\n",
       "      <td>2.346304</td>\n",
       "      <td>48.861469</td>\n",
       "    </tr>\n",
       "    <tr>\n",
       "      <th>3</th>\n",
       "      <td>3</td>\n",
       "      <td>PW0189</td>\n",
       "      <td>2019-09-01 13:33:00+00:00</td>\n",
       "      <td>2019-09-01 15:04:00+00:00</td>\n",
       "      <td>5412</td>\n",
       "      <td>90.200000</td>\n",
       "      <td>JARD FLOTTANT-BERGES RG</td>\n",
       "      <td>75007.0</td>\n",
       "      <td>Mobile</td>\n",
       "      <td>autre</td>\n",
       "      <td>...</td>\n",
       "      <td>97368</td>\n",
       "      <td>Allemand</td>\n",
       "      <td>{\"coordinates\": [2.3045246819, 48.8629641751],...</td>\n",
       "      <td>PORT DU GROS CAILLOU</td>\n",
       "      <td>JARD FLOTTANT-BERGES RG</td>\n",
       "      <td>75007.0</td>\n",
       "      <td>3.0</td>\n",
       "      <td>Opérationnel</td>\n",
       "      <td>2.304525</td>\n",
       "      <td>48.862964</td>\n",
       "    </tr>\n",
       "    <tr>\n",
       "      <th>4</th>\n",
       "      <td>4</td>\n",
       "      <td>PW0189</td>\n",
       "      <td>2019-09-01 13:38:00+00:00</td>\n",
       "      <td>2019-09-01 13:49:00+00:00</td>\n",
       "      <td>643</td>\n",
       "      <td>10.716667</td>\n",
       "      <td>JARD FLOTTANT-BERGES RG</td>\n",
       "      <td>75007.0</td>\n",
       "      <td>Mobile</td>\n",
       "      <td>autre</td>\n",
       "      <td>...</td>\n",
       "      <td>6924</td>\n",
       "      <td>Anglais</td>\n",
       "      <td>{\"coordinates\": [2.3045246819, 48.8629641751],...</td>\n",
       "      <td>PORT DU GROS CAILLOU</td>\n",
       "      <td>JARD FLOTTANT-BERGES RG</td>\n",
       "      <td>75007.0</td>\n",
       "      <td>3.0</td>\n",
       "      <td>Opérationnel</td>\n",
       "      <td>2.304525</td>\n",
       "      <td>48.862964</td>\n",
       "    </tr>\n",
       "    <tr>\n",
       "      <th>...</th>\n",
       "      <td>...</td>\n",
       "      <td>...</td>\n",
       "      <td>...</td>\n",
       "      <td>...</td>\n",
       "      <td>...</td>\n",
       "      <td>...</td>\n",
       "      <td>...</td>\n",
       "      <td>...</td>\n",
       "      <td>...</td>\n",
       "      <td>...</td>\n",
       "      <td>...</td>\n",
       "      <td>...</td>\n",
       "      <td>...</td>\n",
       "      <td>...</td>\n",
       "      <td>...</td>\n",
       "      <td>...</td>\n",
       "      <td>...</td>\n",
       "      <td>...</td>\n",
       "      <td>...</td>\n",
       "      <td>...</td>\n",
       "      <td>...</td>\n",
       "    </tr>\n",
       "    <tr>\n",
       "      <th>2134492</th>\n",
       "      <td>2134492</td>\n",
       "      <td>PW0110</td>\n",
       "      <td>2022-02-17 16:16:00+00:00</td>\n",
       "      <td>2022-02-17 16:26:00+00:00</td>\n",
       "      <td>600</td>\n",
       "      <td>10.000000</td>\n",
       "      <td>JARD NELSON MANDELA</td>\n",
       "      <td>75001.0</td>\n",
       "      <td>Mobile</td>\n",
       "      <td>HUAWEI</td>\n",
       "      <td>...</td>\n",
       "      <td>8771</td>\n",
       "      <td>Russe</td>\n",
       "      <td>{\"coordinates\": [2.346303724, 48.8614694222], ...</td>\n",
       "      <td>32 RUE BERGER</td>\n",
       "      <td>JARD NELSON MANDELA</td>\n",
       "      <td>75001.0</td>\n",
       "      <td>2.0</td>\n",
       "      <td>Opérationnel</td>\n",
       "      <td>2.346304</td>\n",
       "      <td>48.861469</td>\n",
       "    </tr>\n",
       "    <tr>\n",
       "      <th>2134493</th>\n",
       "      <td>2134493</td>\n",
       "      <td>PW0009</td>\n",
       "      <td>2022-02-17 16:19:00+00:00</td>\n",
       "      <td>2022-02-17 16:24:00+00:00</td>\n",
       "      <td>333</td>\n",
       "      <td>5.550000</td>\n",
       "      <td>BIB VACLAV HAVEL</td>\n",
       "      <td>75018.0</td>\n",
       "      <td>Mobile</td>\n",
       "      <td>autre</td>\n",
       "      <td>...</td>\n",
       "      <td>5</td>\n",
       "      <td>Portugais</td>\n",
       "      <td>{\"coordinates\": [2.3632099736, 48.8901061541],...</td>\n",
       "      <td>26B RUE PAJOL</td>\n",
       "      <td>BIB VACLAV HAVEL</td>\n",
       "      <td>75018.0</td>\n",
       "      <td>4.0</td>\n",
       "      <td>Opérationnel</td>\n",
       "      <td>2.363210</td>\n",
       "      <td>48.890106</td>\n",
       "    </tr>\n",
       "    <tr>\n",
       "      <th>2134494</th>\n",
       "      <td>2134494</td>\n",
       "      <td>PW0110</td>\n",
       "      <td>2022-02-17 16:21:00+00:00</td>\n",
       "      <td>2022-02-17 18:21:00+00:00</td>\n",
       "      <td>7217</td>\n",
       "      <td>120.283333</td>\n",
       "      <td>JARD NELSON MANDELA</td>\n",
       "      <td>75001.0</td>\n",
       "      <td>Mobile</td>\n",
       "      <td>HUAWEI</td>\n",
       "      <td>...</td>\n",
       "      <td>62030</td>\n",
       "      <td>Russe</td>\n",
       "      <td>{\"coordinates\": [2.346303724, 48.8614694222], ...</td>\n",
       "      <td>32 RUE BERGER</td>\n",
       "      <td>JARD NELSON MANDELA</td>\n",
       "      <td>75001.0</td>\n",
       "      <td>2.0</td>\n",
       "      <td>Opérationnel</td>\n",
       "      <td>2.346304</td>\n",
       "      <td>48.861469</td>\n",
       "    </tr>\n",
       "    <tr>\n",
       "      <th>2134495</th>\n",
       "      <td>2134495</td>\n",
       "      <td>PW0229</td>\n",
       "      <td>2022-02-17 16:29:00+00:00</td>\n",
       "      <td>2022-02-17 16:53:00+00:00</td>\n",
       "      <td>1433</td>\n",
       "      <td>23.883333</td>\n",
       "      <td>MUSEE GALLIERA</td>\n",
       "      <td>75016.0</td>\n",
       "      <td>Mobile</td>\n",
       "      <td>Apple</td>\n",
       "      <td>...</td>\n",
       "      <td>107761</td>\n",
       "      <td>Français</td>\n",
       "      <td>{\"coordinates\": [2.2964938608, 48.8659117866],...</td>\n",
       "      <td>10 AVENUE PIERRE 1ER DE SERBIE</td>\n",
       "      <td>MUSEE GALLIERA</td>\n",
       "      <td>75016.0</td>\n",
       "      <td>20.0</td>\n",
       "      <td>Opérationnel</td>\n",
       "      <td>2.296494</td>\n",
       "      <td>48.865912</td>\n",
       "    </tr>\n",
       "    <tr>\n",
       "      <th>2134496</th>\n",
       "      <td>2134496</td>\n",
       "      <td>PW0003</td>\n",
       "      <td>2022-02-17 16:31:00+00:00</td>\n",
       "      <td>2022-02-17 16:32:00+00:00</td>\n",
       "      <td>8</td>\n",
       "      <td>0.133333</td>\n",
       "      <td>BIB COLETTE VIVIER</td>\n",
       "      <td>75017.0</td>\n",
       "      <td>Mobile</td>\n",
       "      <td>autre</td>\n",
       "      <td>...</td>\n",
       "      <td>0</td>\n",
       "      <td>Français</td>\n",
       "      <td>{\"coordinates\": [2.3196433734, 48.889783335], ...</td>\n",
       "      <td>6 RUE FOURNEYRON</td>\n",
       "      <td>BIB COLETTE VIVIER</td>\n",
       "      <td>75017.0</td>\n",
       "      <td>1.0</td>\n",
       "      <td>Opérationnel</td>\n",
       "      <td>2.319643</td>\n",
       "      <td>48.889783</td>\n",
       "    </tr>\n",
       "  </tbody>\n",
       "</table>\n",
       "<p>2134497 rows × 27 columns</p>\n",
       "</div>"
      ],
      "text/plain": [
       "         Unnamed: 0 Code Site           Date heure début  \\\n",
       "0                 0    PW0191  2019-09-01 13:30:00+00:00   \n",
       "1                 1  PW0122-1  2019-09-01 13:27:00+00:00   \n",
       "2                 2    PW0110  2019-09-01 13:30:00+00:00   \n",
       "3                 3    PW0189  2019-09-01 13:33:00+00:00   \n",
       "4                 4    PW0189  2019-09-01 13:38:00+00:00   \n",
       "...             ...       ...                        ...   \n",
       "2134492     2134492    PW0110  2022-02-17 16:16:00+00:00   \n",
       "2134493     2134493    PW0009  2022-02-17 16:19:00+00:00   \n",
       "2134494     2134494    PW0110  2022-02-17 16:21:00+00:00   \n",
       "2134495     2134495    PW0229  2022-02-17 16:29:00+00:00   \n",
       "2134496     2134496    PW0003  2022-02-17 16:31:00+00:00   \n",
       "\n",
       "                    Date heure fin  Temps de session en secondes  \\\n",
       "0        2019-09-01 13:34:00+00:00                           209   \n",
       "1        2019-09-01 13:43:00+00:00                           963   \n",
       "2        2019-09-01 13:53:00+00:00                          1402   \n",
       "3        2019-09-01 15:04:00+00:00                          5412   \n",
       "4        2019-09-01 13:49:00+00:00                           643   \n",
       "...                            ...                           ...   \n",
       "2134492  2022-02-17 16:26:00+00:00                           600   \n",
       "2134493  2022-02-17 16:24:00+00:00                           333   \n",
       "2134494  2022-02-17 18:21:00+00:00                          7217   \n",
       "2134495  2022-02-17 16:53:00+00:00                          1433   \n",
       "2134496  2022-02-17 16:32:00+00:00                             8   \n",
       "\n",
       "         Temps de sessions en minutes               Nom du site  Code postal  \\\n",
       "0                            3.483333  JARD GARCIA LORCA-SQ HDV      75004.0   \n",
       "1                           16.050000                   HDV RDC      75004.0   \n",
       "2                           23.366667       JARD NELSON MANDELA      75001.0   \n",
       "3                           90.200000   JARD FLOTTANT-BERGES RG      75007.0   \n",
       "4                           10.716667   JARD FLOTTANT-BERGES RG      75007.0   \n",
       "...                               ...                       ...          ...   \n",
       "2134492                     10.000000       JARD NELSON MANDELA      75001.0   \n",
       "2134493                      5.550000          BIB VACLAV HAVEL      75018.0   \n",
       "2134494                    120.283333       JARD NELSON MANDELA      75001.0   \n",
       "2134495                     23.883333            MUSEE GALLIERA      75016.0   \n",
       "2134496                      0.133333        BIB COLETTE VIVIER      75017.0   \n",
       "\n",
       "        Type Appareil Constructeur appareil  ... Paquets sortants  \\\n",
       "0              Mobile                 Apple  ...             6004   \n",
       "1              Mobile                HUAWEI  ...            38287   \n",
       "2              Mobile                 autre  ...            20012   \n",
       "3              Mobile                 autre  ...            97368   \n",
       "4              Mobile                 autre  ...             6924   \n",
       "...               ...                   ...  ...              ...   \n",
       "2134492        Mobile                HUAWEI  ...             8771   \n",
       "2134493        Mobile                 autre  ...                5   \n",
       "2134494        Mobile                HUAWEI  ...            62030   \n",
       "2134495        Mobile                 Apple  ...           107761   \n",
       "2134496        Mobile                 autre  ...                0   \n",
       "\n",
       "        Langue utilisateur                                           Geometry  \\\n",
       "0                 Français  {\"coordinates\": [2.353240934, 48.8547105055], ...   \n",
       "1                 Français  {\"coordinates\": [2.352388267, 48.856389683], \"...   \n",
       "2                 Français  {\"coordinates\": [2.346303724, 48.8614694222], ...   \n",
       "3                 Allemand  {\"coordinates\": [2.3045246819, 48.8629641751],...   \n",
       "4                  Anglais  {\"coordinates\": [2.3045246819, 48.8629641751],...   \n",
       "...                    ...                                                ...   \n",
       "2134492              Russe  {\"coordinates\": [2.346303724, 48.8614694222], ...   \n",
       "2134493          Portugais  {\"coordinates\": [2.3632099736, 48.8901061541],...   \n",
       "2134494              Russe  {\"coordinates\": [2.346303724, 48.8614694222], ...   \n",
       "2134495           Français  {\"coordinates\": [2.2964938608, 48.8659117866],...   \n",
       "2134496           Français  {\"coordinates\": [2.3196433734, 48.889783335], ...   \n",
       "\n",
       "                                Adresse             Nom du site.1  \\\n",
       "0              QUAI DE L'HOTEL DE VILLE  JARD GARCIA LORCA-SQ HDV   \n",
       "1           4 PLACE DE L'HOTEL DE VILLE                   HDV RDC   \n",
       "2                         32 RUE BERGER       JARD NELSON MANDELA   \n",
       "3                  PORT DU GROS CAILLOU   JARD FLOTTANT-BERGES RG   \n",
       "4                  PORT DU GROS CAILLOU   JARD FLOTTANT-BERGES RG   \n",
       "...                                 ...                       ...   \n",
       "2134492                   32 RUE BERGER       JARD NELSON MANDELA   \n",
       "2134493                   26B RUE PAJOL          BIB VACLAV HAVEL   \n",
       "2134494                   32 RUE BERGER       JARD NELSON MANDELA   \n",
       "2134495  10 AVENUE PIERRE 1ER DE SERBIE            MUSEE GALLIERA   \n",
       "2134496                6 RUE FOURNEYRON        BIB COLETTE VIVIER   \n",
       "\n",
       "         Code postal.1  Nombre de bornes  Etat du site  Latitude  Longitude  \n",
       "0              75004.0               1.0  Opérationnel  2.353241  48.854711  \n",
       "1              75004.0               4.0  Opérationnel  2.352388  48.856390  \n",
       "2              75001.0               2.0  Opérationnel  2.346304  48.861469  \n",
       "3              75007.0               3.0  Opérationnel  2.304525  48.862964  \n",
       "4              75007.0               3.0  Opérationnel  2.304525  48.862964  \n",
       "...                ...               ...           ...       ...        ...  \n",
       "2134492        75001.0               2.0  Opérationnel  2.346304  48.861469  \n",
       "2134493        75018.0               4.0  Opérationnel  2.363210  48.890106  \n",
       "2134494        75001.0               2.0  Opérationnel  2.346304  48.861469  \n",
       "2134495        75016.0              20.0  Opérationnel  2.296494  48.865912  \n",
       "2134496        75017.0               1.0  Opérationnel  2.319643  48.889783  \n",
       "\n",
       "[2134497 rows x 27 columns]"
      ]
     },
     "execution_count": 8,
     "metadata": {},
     "output_type": "execute_result"
    }
   ],
   "source": [
    "df"
   ]
  },
  {
   "cell_type": "code",
   "execution_count": 9,
   "id": "2232e74c",
   "metadata": {},
   "outputs": [
    {
     "data": {
      "text/plain": [
       "<AxesSubplot:xlabel='Temps de session en secondes'>"
      ]
     },
     "execution_count": 9,
     "metadata": {},
     "output_type": "execute_result"
    },
    {
     "data": {
      "image/png": "[encoded data removed]",
      "text/plain": [
       "<Figure size 432x288 with 1 Axes>"
      ]
     },
     "metadata": {
      "needs_background": "light"
     },
     "output_type": "display_data"
    }
   ],
   "source": [
    "sns.boxplot(x=df['Temps de session en secondes'])"
   ]
  },
  {
   "cell_type": "code",
   "execution_count": 10,
   "id": "116725d7",
   "metadata": {},
   "outputs": [
    {
     "ename": "NameError",
     "evalue": "name 'iris' is not defined",
     "output_type": "error",
     "traceback": [
      "\u001b[0;31m---------------------------------------------------------------------------\u001b[0m",
      "\u001b[0;31mNameError\u001b[0m                                 Traceback (most recent call last)",
      "\u001b[0;32m/var/folders/cl/lbql31ls26l5z9t2g92jwx_m0000gn/T/ipykernel_18778/3075319659.py\u001b[0m in \u001b[0;36m<module>\u001b[0;34m\u001b[0m\n\u001b[0;32m----> 1\u001b[0;31m \u001b[0mnumeric_data\u001b[0m \u001b[0;34m=\u001b[0m \u001b[0miris\u001b[0m\u001b[0;34m.\u001b[0m\u001b[0mselect_dtypes\u001b[0m\u001b[0;34m(\u001b[0m\u001b[0minclude\u001b[0m\u001b[0;34m=\u001b[0m\u001b[0;34m[\u001b[0m\u001b[0mnp\u001b[0m\u001b[0;34m.\u001b[0m\u001b[0mnumber\u001b[0m\u001b[0;34m]\u001b[0m\u001b[0;34m)\u001b[0m\u001b[0;34m\u001b[0m\u001b[0;34m\u001b[0m\u001b[0m\n\u001b[0m\u001b[1;32m      2\u001b[0m \u001b[0mcategorical_data\u001b[0m \u001b[0;34m=\u001b[0m \u001b[0miris\u001b[0m\u001b[0;34m.\u001b[0m\u001b[0mselect_dtypes\u001b[0m\u001b[0;34m(\u001b[0m\u001b[0mexclude\u001b[0m\u001b[0;34m=\u001b[0m\u001b[0;34m[\u001b[0m\u001b[0mnp\u001b[0m\u001b[0;34m.\u001b[0m\u001b[0mnumber\u001b[0m\u001b[0;34m]\u001b[0m\u001b[0;34m)\u001b[0m\u001b[0;34m\u001b[0m\u001b[0;34m\u001b[0m\u001b[0m\n",
      "\u001b[0;31mNameError\u001b[0m: name 'iris' is not defined"
     ]
    }
   ],
   "source": [
    "#numeric_data = iris.select_dtypes(include=[np.number])\n",
    "#categorical_data = iris.select_dtypes(exclude=[np.number])"
   ]
  },
  {
   "cell_type": "code",
   "execution_count": null,
   "id": "fd9512d5",
   "metadata": {},
   "outputs": [],
   "source": [
    "#sns.boxplot(x=customers['Fresh'])"
   ]
  },
  {
   "cell_type": "code",
   "execution_count": 11,
   "id": "b5e5308d",
   "metadata": {},
   "outputs": [
    {
     "data": {
      "text/plain": [
       "<AxesSubplot:xlabel='Temps de sessions en minutes'>"
      ]
     },
     "execution_count": 11,
     "metadata": {},
     "output_type": "execute_result"
    },
    {
     "data": {
      "image/png": "[encoded data removed]",
      "text/plain": [
       "<Figure size 432x288 with 1 Axes>"
      ]
     },
     "metadata": {
      "needs_background": "light"
     },
     "output_type": "display_data"
    }
   ],
   "source": [
    "sns.boxplot(x=df['Temps de sessions en minutes'])"
   ]
  },
  {
   "cell_type": "code",
   "execution_count": 12,
   "id": "896d7b79",
   "metadata": {},
   "outputs": [
    {
     "data": {
      "text/plain": [
       "<AxesSubplot:xlabel='Code postal'>"
      ]
     },
     "execution_count": 12,
     "metadata": {},
     "output_type": "execute_result"
    },
    {
     "data": {
      "image/png": "[encoded data removed]",
      "text/plain": [
       "<Figure size 432x288 with 1 Axes>"
      ]
     },
     "metadata": {
      "needs_background": "light"
     },
     "output_type": "display_data"
    }
   ],
   "source": [
    "sns.boxplot(x=df['Code postal'])"
   ]
  },
  {
   "cell_type": "code",
   "execution_count": 13,
   "id": "3e1d9438",
   "metadata": {},
   "outputs": [
    {
     "data": {
      "text/plain": [
       "<AxesSubplot:xlabel='Donnée entrante (Octet)'>"
      ]
     },
     "execution_count": 13,
     "metadata": {},
     "output_type": "execute_result"
    },
    {
     "data": {
      "image/png": "[encoded data removed]",
      "text/plain": [
       "<Figure size 432x288 with 1 Axes>"
      ]
     },
     "metadata": {
      "needs_background": "light"
     },
     "output_type": "display_data"
    }
   ],
   "source": [
    "sns.boxplot(x=df['Donnée entrante (Octet)'])"
   ]
  },
  {
   "cell_type": "code",
   "execution_count": 14,
   "id": "f8ff82ab",
   "metadata": {},
   "outputs": [
    {
     "data": {
      "text/plain": [
       "<AxesSubplot:xlabel='Donnée entrante (MégaOctet)'>"
      ]
     },
     "execution_count": 14,
     "metadata": {},
     "output_type": "execute_result"
    },
    {
     "data": {
      "image/png": "[encoded data removed]",
      "text/plain": [
       "<Figure size 432x288 with 1 Axes>"
      ]
     },
     "metadata": {
      "needs_background": "light"
     },
     "output_type": "display_data"
    }
   ],
   "source": [
    "sns.boxplot(x=df['Donnée entrante (MégaOctet)'])"
   ]
  },
  {
   "cell_type": "code",
   "execution_count": 15,
   "id": "6076e58e",
   "metadata": {},
   "outputs": [
    {
     "data": {
      "text/plain": [
       "<AxesSubplot:xlabel='Donnée sortante (Octet)'>"
      ]
     },
     "execution_count": 15,
     "metadata": {},
     "output_type": "execute_result"
    },
    {
     "data": {
      "image/png": "[encoded data removed]",
      "text/plain": [
       "<Figure size 432x288 with 1 Axes>"
      ]
     },
     "metadata": {
      "needs_background": "light"
     },
     "output_type": "display_data"
    }
   ],
   "source": [
    "sns.boxplot(x=df['Donnée sortante (Octet)'])"
   ]
  },
  {
   "cell_type": "code",
   "execution_count": 16,
   "id": "eb56cda6",
   "metadata": {},
   "outputs": [
    {
     "data": {
      "text/plain": [
       "<AxesSubplot:xlabel='Donnée sortante (MégaOctet)'>"
      ]
     },
     "execution_count": 16,
     "metadata": {},
     "output_type": "execute_result"
    },
    {
     "data": {
      "image/png": "[encoded data removed]",
      "text/plain": [
       "<Figure size 432x288 with 1 Axes>"
      ]
     },
     "metadata": {
      "needs_background": "light"
     },
     "output_type": "display_data"
    }
   ],
   "source": [
    "sns.boxplot(x=df['Donnée sortante (MégaOctet)'])"
   ]
  },
  {
   "cell_type": "code",
   "execution_count": 17,
   "id": "c008494e",
   "metadata": {},
   "outputs": [
    {
     "data": {
      "text/plain": [
       "<AxesSubplot:xlabel='Paquets entrants'>"
      ]
     },
     "execution_count": 17,
     "metadata": {},
     "output_type": "execute_result"
    },
    {
     "data": {
      "image/png": "[encoded data removed]",
      "text/plain": [
       "<Figure size 432x288 with 1 Axes>"
      ]
     },
     "metadata": {
      "needs_background": "light"
     },
     "output_type": "display_data"
    }
   ],
   "source": [
    "sns.boxplot(x=df['Paquets entrants'])"
   ]
  },
  {
   "cell_type": "code",
   "execution_count": 18,
   "id": "8df4ebc8",
   "metadata": {},
   "outputs": [
    {
     "data": {
      "text/plain": [
       "<AxesSubplot:xlabel='Paquets sortants'>"
      ]
     },
     "execution_count": 18,
     "metadata": {},
     "output_type": "execute_result"
    },
    {
     "data": {
      "image/png": "[encoded data removed]",
      "text/plain": [
       "<Figure size 432x288 with 1 Axes>"
      ]
     },
     "metadata": {
      "needs_background": "light"
     },
     "output_type": "display_data"
    }
   ],
   "source": [
    "sns.boxplot(x=df['Paquets sortants'])"
   ]
  },
  {
   "cell_type": "code",
   "execution_count": 19,
   "id": "e4bc33bc",
   "metadata": {},
   "outputs": [
    {
     "data": {
      "text/plain": [
       "<AxesSubplot:xlabel='Nombre de bornes'>"
      ]
     },
     "execution_count": 19,
     "metadata": {},
     "output_type": "execute_result"
    },
    {
     "data": {
      "image/png": "[encoded data removed]",
      "text/plain": [
       "<Figure size 432x288 with 1 Axes>"
      ]
     },
     "metadata": {
      "needs_background": "light"
     },
     "output_type": "display_data"
    }
   ],
   "source": [
    "sns.boxplot(x=df['Nombre de bornes'])"
   ]
  },
  {
   "cell_type": "code",
   "execution_count": 20,
   "id": "bb4a3c86",
   "metadata": {},
   "outputs": [
    {
     "data": {
      "text/plain": [
       "<AxesSubplot:xlabel='Latitude'>"
      ]
     },
     "execution_count": 20,
     "metadata": {},
     "output_type": "execute_result"
    },
    {
     "data": {
      "image/png": "[encoded data removed]",
      "text/plain": [
       "<Figure size 432x288 with 1 Axes>"
      ]
     },
     "metadata": {
      "needs_background": "light"
     },
     "output_type": "display_data"
    }
   ],
   "source": [
    "sns.boxplot(x=df['Latitude'])"
   ]
  },
  {
   "cell_type": "code",
   "execution_count": 21,
   "id": "38448cdb",
   "metadata": {},
   "outputs": [
    {
     "data": {
      "text/plain": [
       "<AxesSubplot:xlabel='Longitude'>"
      ]
     },
     "execution_count": 21,
     "metadata": {},
     "output_type": "execute_result"
    },
    {
     "data": {
      "image/png": "[encoded data removed]",
      "text/plain": [
       "<Figure size 432x288 with 1 Axes>"
      ]
     },
     "metadata": {
      "needs_background": "light"
     },
     "output_type": "display_data"
    }
   ],
   "source": [
    "sns.boxplot(x=df['Longitude'])"
   ]
  },
  {
   "cell_type": "code",
   "execution_count": null,
   "id": "456daf21",
   "metadata": {},
   "outputs": [],
   "source": [
    "#time distribution\n"
   ]
  },
  {
   "cell_type": "code",
   "execution_count": 23,
   "id": "7472a47e",
   "metadata": {},
   "outputs": [
    {
     "data": {
      "text/plain": [
       "109-115 RUE DE BAGNOLET          110877\n",
       "8 RUE LEON SCHWARTZENBERG         64336\n",
       "4 PLACE DE L'HOTEL DE VILLE       56151\n",
       "11 RUE NICOLAS CHUQUET            48269\n",
       "1 PLACE DU ONZE NOVEMBRE 1918     46014\n",
       "                                  ...  \n",
       "8 RUE ELZEVIR                       240\n",
       "79 RUE DE LA JONQUIERE              202\n",
       "1 RUE EMILE HEMINGWAY               141\n",
       "FACE AU 133 RUE BELLIARD             44\n",
       "46B RUE DE SAINT MAUR                24\n",
       "Name: Adresse, Length: 247, dtype: int64"
      ]
     },
     "execution_count": 23,
     "metadata": {},
     "output_type": "execute_result"
    }
   ],
   "source": [
    "df['Nom du site'].value_counts()"
   ]
  },
  {
   "cell_type": "code",
   "execution_count": 28,
   "id": "34c65c21",
   "metadata": {},
   "outputs": [
    {
     "data": {
      "text/plain": [
       "<AxesSubplot:>"
      ]
     },
     "execution_count": 28,
     "metadata": {},
     "output_type": "execute_result"
    },
    {
     "data": {
      "image/png": "[encoded data removed]",
      "text/plain": [
       "<Figure size 432x288 with 1 Axes>"
      ]
     },
     "metadata": {
      "needs_background": "light"
     },
     "output_type": "display_data"
    }
   ],
   "source": [
    "df['Etat du site'].value_counts().plot.bar()"
   ]
  },
  {
   "cell_type": "code",
   "execution_count": 49,
   "id": "ef085215",
   "metadata": {},
   "outputs": [
    {
     "data": {
      "text/plain": [
       "20186"
      ]
     },
     "execution_count": 49,
     "metadata": {},
     "output_type": "execute_result"
    }
   ],
   "source": [
    "df['Latitude'].isna().sum()"
   ]
  },
  {
   "cell_type": "code",
   "execution_count": 45,
   "id": "9085c0bf",
   "metadata": {},
   "outputs": [
    {
     "data": {
      "text/plain": [
       "BIB MARGUERITE DURAS               110877\n",
       "MED FRANCOISE SAGAN                 64336\n",
       "BIB EDMOND ROSTAND                  48680\n",
       "JARD DU TROCADERO                   46014\n",
       "BIB BHVP                            40852\n",
       "                                    ...  \n",
       "PROMENADE CLAUDE LEVI STRAUS           19\n",
       "PERMIS DE CONSTRUIRE ƒ?? USAGER        17\n",
       "MUSEE PETIT PALAIS                      6\n",
       "SQ COLBERT ex CHARONNE                  3\n",
       "LES CATACOMBES DE PARIS                 1\n",
       "Name: Nom du site, Length: 283, dtype: int64"
      ]
     },
     "execution_count": 45,
     "metadata": {},
     "output_type": "execute_result"
    }
   ],
   "source": [
    "df['Nom du site'].value_counts()"
   ]
  },
  {
   "cell_type": "code",
   "execution_count": 48,
   "id": "a481e318",
   "metadata": {},
   "outputs": [
    {
     "ename": "ValueError",
     "evalue": "Location values cannot contain NaNs.",
     "output_type": "error",
     "traceback": [
      "\u001b[0;31m---------------------------------------------------------------------------\u001b[0m",
      "\u001b[0;31mValueError\u001b[0m                                Traceback (most recent call last)",
      "\u001b[0;32m/var/folders/cl/lbql31ls26l5z9t2g92jwx_m0000gn/T/ipykernel_18778/2338363426.py\u001b[0m in \u001b[0;36m<module>\u001b[0;34m\u001b[0m\n\u001b[1;32m      3\u001b[0m \u001b[0;34m\u001b[0m\u001b[0m\n\u001b[1;32m      4\u001b[0m \u001b[0;32mfor\u001b[0m \u001b[0;34m(\u001b[0m\u001b[0m_\u001b[0m\u001b[0;34m,\u001b[0m \u001b[0;34m(\u001b[0m\u001b[0mNDS\u001b[0m\u001b[0;34m)\u001b[0m\u001b[0;34m)\u001b[0m \u001b[0;32min\u001b[0m \u001b[0mdf\u001b[0m\u001b[0;34m[\u001b[0m\u001b[0;34m[\u001b[0m\u001b[0;34m'Nom du site'\u001b[0m\u001b[0;34m]\u001b[0m\u001b[0;34m]\u001b[0m\u001b[0;34m.\u001b[0m\u001b[0miterrows\u001b[0m\u001b[0;34m(\u001b[0m\u001b[0;34m)\u001b[0m\u001b[0;34m:\u001b[0m\u001b[0;34m\u001b[0m\u001b[0;34m\u001b[0m\u001b[0m\n\u001b[0;32m----> 5\u001b[0;31m     folium.CircleMarker([lat, long],\n\u001b[0m\u001b[1;32m      6\u001b[0m                     \u001b[0mradius\u001b[0m\u001b[0;34m=\u001b[0m\u001b[0;36m5\u001b[0m\u001b[0;34m,\u001b[0m\u001b[0;34m\u001b[0m\u001b[0;34m\u001b[0m\u001b[0m\n\u001b[1;32m      7\u001b[0m                     \u001b[0mcolor\u001b[0m\u001b[0;34m=\u001b[0m\u001b[0;34m'#3186cc'\u001b[0m\u001b[0;34m,\u001b[0m\u001b[0;34m\u001b[0m\u001b[0;34m\u001b[0m\u001b[0m\n",
      "\u001b[0;32m~/anaconda3/lib/python3.9/site-packages/folium/vector_layers.py\u001b[0m in \u001b[0;36m__init__\u001b[0;34m(self, location, radius, popup, tooltip, **kwargs)\u001b[0m\n\u001b[1;32m    302\u001b[0m \u001b[0;34m\u001b[0m\u001b[0m\n\u001b[1;32m    303\u001b[0m     \u001b[0;32mdef\u001b[0m \u001b[0m__init__\u001b[0m\u001b[0;34m(\u001b[0m\u001b[0mself\u001b[0m\u001b[0;34m,\u001b[0m \u001b[0mlocation\u001b[0m\u001b[0;34m=\u001b[0m\u001b[0;32mNone\u001b[0m\u001b[0;34m,\u001b[0m \u001b[0mradius\u001b[0m\u001b[0;34m=\u001b[0m\u001b[0;36m10\u001b[0m\u001b[0;34m,\u001b[0m \u001b[0mpopup\u001b[0m\u001b[0;34m=\u001b[0m\u001b[0;32mNone\u001b[0m\u001b[0;34m,\u001b[0m \u001b[0mtooltip\u001b[0m\u001b[0;34m=\u001b[0m\u001b[0;32mNone\u001b[0m\u001b[0;34m,\u001b[0m \u001b[0;34m**\u001b[0m\u001b[0mkwargs\u001b[0m\u001b[0;34m)\u001b[0m\u001b[0;34m:\u001b[0m\u001b[0;34m\u001b[0m\u001b[0;34m\u001b[0m\u001b[0m\n\u001b[0;32m--> 304\u001b[0;31m         super(CircleMarker, self).__init__(location, popup=popup,\n\u001b[0m\u001b[1;32m    305\u001b[0m                                            tooltip=tooltip)\n\u001b[1;32m    306\u001b[0m         \u001b[0mself\u001b[0m\u001b[0;34m.\u001b[0m\u001b[0m_name\u001b[0m \u001b[0;34m=\u001b[0m \u001b[0;34m'CircleMarker'\u001b[0m\u001b[0;34m\u001b[0m\u001b[0;34m\u001b[0m\u001b[0m\n",
      "\u001b[0;32m~/anaconda3/lib/python3.9/site-packages/folium/map.py\u001b[0m in \u001b[0;36m__init__\u001b[0;34m(self, location, popup, tooltip, icon, draggable, **kwargs)\u001b[0m\n\u001b[1;32m    275\u001b[0m         \u001b[0msuper\u001b[0m\u001b[0;34m(\u001b[0m\u001b[0mMarker\u001b[0m\u001b[0;34m,\u001b[0m \u001b[0mself\u001b[0m\u001b[0;34m)\u001b[0m\u001b[0;34m.\u001b[0m\u001b[0m__init__\u001b[0m\u001b[0;34m(\u001b[0m\u001b[0;34m)\u001b[0m\u001b[0;34m\u001b[0m\u001b[0;34m\u001b[0m\u001b[0m\n\u001b[1;32m    276\u001b[0m         \u001b[0mself\u001b[0m\u001b[0;34m.\u001b[0m\u001b[0m_name\u001b[0m \u001b[0;34m=\u001b[0m \u001b[0;34m'Marker'\u001b[0m\u001b[0;34m\u001b[0m\u001b[0;34m\u001b[0m\u001b[0m\n\u001b[0;32m--> 277\u001b[0;31m         \u001b[0mself\u001b[0m\u001b[0;34m.\u001b[0m\u001b[0mlocation\u001b[0m \u001b[0;34m=\u001b[0m \u001b[0mvalidate_location\u001b[0m\u001b[0;34m(\u001b[0m\u001b[0mlocation\u001b[0m\u001b[0;34m)\u001b[0m \u001b[0;32mif\u001b[0m \u001b[0mlocation\u001b[0m \u001b[0;32melse\u001b[0m \u001b[0;32mNone\u001b[0m\u001b[0;34m\u001b[0m\u001b[0;34m\u001b[0m\u001b[0m\n\u001b[0m\u001b[1;32m    278\u001b[0m         self.options = parse_options(\n\u001b[1;32m    279\u001b[0m             \u001b[0mdraggable\u001b[0m\u001b[0;34m=\u001b[0m\u001b[0mdraggable\u001b[0m \u001b[0;32mor\u001b[0m \u001b[0;32mNone\u001b[0m\u001b[0;34m,\u001b[0m\u001b[0;34m\u001b[0m\u001b[0;34m\u001b[0m\u001b[0m\n",
      "\u001b[0;32m~/anaconda3/lib/python3.9/site-packages/folium/utilities.py\u001b[0m in \u001b[0;36mvalidate_location\u001b[0;34m(location)\u001b[0m\n\u001b[1;32m     64\u001b[0m                              .format(coord, type(coord)))\n\u001b[1;32m     65\u001b[0m         \u001b[0;32mif\u001b[0m \u001b[0mmath\u001b[0m\u001b[0;34m.\u001b[0m\u001b[0misnan\u001b[0m\u001b[0;34m(\u001b[0m\u001b[0mfloat\u001b[0m\u001b[0;34m(\u001b[0m\u001b[0mcoord\u001b[0m\u001b[0;34m)\u001b[0m\u001b[0;34m)\u001b[0m\u001b[0;34m:\u001b[0m\u001b[0;34m\u001b[0m\u001b[0;34m\u001b[0m\u001b[0m\n\u001b[0;32m---> 66\u001b[0;31m             \u001b[0;32mraise\u001b[0m \u001b[0mValueError\u001b[0m\u001b[0;34m(\u001b[0m\u001b[0;34m'Location values cannot contain NaNs.'\u001b[0m\u001b[0;34m)\u001b[0m\u001b[0;34m\u001b[0m\u001b[0;34m\u001b[0m\u001b[0m\n\u001b[0m\u001b[1;32m     67\u001b[0m     \u001b[0;32mreturn\u001b[0m \u001b[0;34m[\u001b[0m\u001b[0mfloat\u001b[0m\u001b[0;34m(\u001b[0m\u001b[0mx\u001b[0m\u001b[0;34m)\u001b[0m \u001b[0;32mfor\u001b[0m \u001b[0mx\u001b[0m \u001b[0;32min\u001b[0m \u001b[0mcoords\u001b[0m\u001b[0;34m]\u001b[0m\u001b[0;34m\u001b[0m\u001b[0;34m\u001b[0m\u001b[0m\n\u001b[1;32m     68\u001b[0m \u001b[0;34m\u001b[0m\u001b[0m\n",
      "\u001b[0;31mValueError\u001b[0m: Location values cannot contain NaNs."
     ]
    }
   ],
   "source": [
    "import folium\n",
    "display = folium.Map(location=[48.8566,2.3522])\n",
    "\n",
    "for (_, (lat, long)) in wifi[['Latitude', 'Longitude']].iterrows():\n",
    "    folium.CircleMarker([lat, long],\n",
    "                    radius=5,\n",
    "                    color='#3186cc',\n",
    "                    fill_color='#3186cc',\n",
    "                   ).add_to(display)\n",
    "\n",
    "display"
   ]
  },
  {
   "cell_type": "code",
   "execution_count": 50,
   "id": "432bcb10",
   "metadata": {},
   "outputs": [],
   "source": [
    "# LIBRAIRIES IMPORT\n",
    "# Data\n",
    "import pandas as pd\n",
    "import numpy as np\n",
    "from sklearn.cluster import KMeans # Replace with your model\n",
    "\n",
    "# Visualisation\n",
    "import matplotlib.pyplot as plt\n",
    "import matplotlib.cm as cm\n",
    "import matplotlib.colors as colors\n",
    "import seaborn as sns\n",
    "import folium\n",
    "\n",
    "%matplotlib inline\n",
    "\n",
    "# Metrics\n",
    "from sklearn import metrics\n",
    "\n",
    "# Elbow\n",
    "from yellowbrick.cluster import KElbowVisualizer"
   ]
  },
  {
   "cell_type": "code",
   "execution_count": 51,
   "id": "c9888331",
   "metadata": {},
   "outputs": [],
   "source": [
    "KMeans?"
   ]
  },
  {
   "cell_type": "code",
   "execution_count": 52,
   "id": "990a66e3",
   "metadata": {},
   "outputs": [],
   "source": [
    "frac_sample = 1\n",
    "df_sample = df.sample(frac = frac_sample, random_state=42)"
   ]
  },
  {
   "cell_type": "code",
   "execution_count": 54,
   "id": "a8dd0352",
   "metadata": {},
   "outputs": [
    {
     "ename": "ValueError",
     "evalue": "Input contains NaN, infinity or a value too large for dtype('float64').",
     "output_type": "error",
     "traceback": [
      "\u001b[0;31m---------------------------------------------------------------------------\u001b[0m",
      "\u001b[0;31mValueError\u001b[0m                                Traceback (most recent call last)",
      "\u001b[0;32m/var/folders/cl/lbql31ls26l5z9t2g92jwx_m0000gn/T/ipykernel_18778/3362121978.py\u001b[0m in \u001b[0;36m<module>\u001b[0;34m\u001b[0m\n\u001b[1;32m      2\u001b[0m \u001b[0mmodel\u001b[0m \u001b[0;34m=\u001b[0m \u001b[0mKMeans\u001b[0m\u001b[0;34m(\u001b[0m\u001b[0mrandom_state\u001b[0m\u001b[0;34m=\u001b[0m\u001b[0;36m42\u001b[0m\u001b[0;34m)\u001b[0m\u001b[0;34m\u001b[0m\u001b[0;34m\u001b[0m\u001b[0m\n\u001b[1;32m      3\u001b[0m \u001b[0mvisualizer\u001b[0m \u001b[0;34m=\u001b[0m \u001b[0mKElbowVisualizer\u001b[0m\u001b[0;34m(\u001b[0m\u001b[0mestimator\u001b[0m \u001b[0;34m=\u001b[0m \u001b[0mmodel\u001b[0m\u001b[0;34m,\u001b[0m \u001b[0mk\u001b[0m \u001b[0;34m=\u001b[0m \u001b[0;34m(\u001b[0m\u001b[0;36m2\u001b[0m\u001b[0;34m,\u001b[0m\u001b[0;36m10\u001b[0m\u001b[0;34m)\u001b[0m\u001b[0;34m)\u001b[0m\u001b[0;34m\u001b[0m\u001b[0;34m\u001b[0m\u001b[0m\n\u001b[0;32m----> 4\u001b[0;31m \u001b[0mvisualizer\u001b[0m\u001b[0;34m.\u001b[0m\u001b[0mfit\u001b[0m\u001b[0;34m(\u001b[0m\u001b[0mX\u001b[0m\u001b[0;34m)\u001b[0m\u001b[0;34m\u001b[0m\u001b[0;34m\u001b[0m\u001b[0m\n\u001b[0m\u001b[1;32m      5\u001b[0m \u001b[0mvisualizer\u001b[0m\u001b[0;34m.\u001b[0m\u001b[0mpoof\u001b[0m\u001b[0;34m(\u001b[0m\u001b[0;34m)\u001b[0m\u001b[0;34m\u001b[0m\u001b[0;34m\u001b[0m\u001b[0m\n",
      "\u001b[0;32m~/anaconda3/lib/python3.9/site-packages/yellowbrick/cluster/elbow.py\u001b[0m in \u001b[0;36mfit\u001b[0;34m(self, X, y, **kwargs)\u001b[0m\n\u001b[1;32m    328\u001b[0m             \u001b[0;31m# Set the k value and fit the model\u001b[0m\u001b[0;34m\u001b[0m\u001b[0;34m\u001b[0m\u001b[0m\n\u001b[1;32m    329\u001b[0m             \u001b[0mself\u001b[0m\u001b[0;34m.\u001b[0m\u001b[0mestimator\u001b[0m\u001b[0;34m.\u001b[0m\u001b[0mset_params\u001b[0m\u001b[0;34m(\u001b[0m\u001b[0mn_clusters\u001b[0m\u001b[0;34m=\u001b[0m\u001b[0mk\u001b[0m\u001b[0;34m)\u001b[0m\u001b[0;34m\u001b[0m\u001b[0;34m\u001b[0m\u001b[0m\n\u001b[0;32m--> 330\u001b[0;31m             \u001b[0mself\u001b[0m\u001b[0;34m.\u001b[0m\u001b[0mestimator\u001b[0m\u001b[0;34m.\u001b[0m\u001b[0mfit\u001b[0m\u001b[0;34m(\u001b[0m\u001b[0mX\u001b[0m\u001b[0;34m,\u001b[0m \u001b[0;34m**\u001b[0m\u001b[0mkwargs\u001b[0m\u001b[0;34m)\u001b[0m\u001b[0;34m\u001b[0m\u001b[0;34m\u001b[0m\u001b[0m\n\u001b[0m\u001b[1;32m    331\u001b[0m \u001b[0;34m\u001b[0m\u001b[0m\n\u001b[1;32m    332\u001b[0m             \u001b[0;31m# Append the time and score to our plottable metrics\u001b[0m\u001b[0;34m\u001b[0m\u001b[0;34m\u001b[0m\u001b[0m\n",
      "\u001b[0;32m~/anaconda3/lib/python3.9/site-packages/sklearn/cluster/_kmeans.py\u001b[0m in \u001b[0;36mfit\u001b[0;34m(self, X, y, sample_weight)\u001b[0m\n\u001b[1;32m   1135\u001b[0m             \u001b[0mFitted\u001b[0m \u001b[0mestimator\u001b[0m\u001b[0;34m.\u001b[0m\u001b[0;34m\u001b[0m\u001b[0;34m\u001b[0m\u001b[0m\n\u001b[1;32m   1136\u001b[0m         \"\"\"\n\u001b[0;32m-> 1137\u001b[0;31m         X = self._validate_data(\n\u001b[0m\u001b[1;32m   1138\u001b[0m             \u001b[0mX\u001b[0m\u001b[0;34m,\u001b[0m\u001b[0;34m\u001b[0m\u001b[0;34m\u001b[0m\u001b[0m\n\u001b[1;32m   1139\u001b[0m             \u001b[0maccept_sparse\u001b[0m\u001b[0;34m=\u001b[0m\u001b[0;34m\"csr\"\u001b[0m\u001b[0;34m,\u001b[0m\u001b[0;34m\u001b[0m\u001b[0;34m\u001b[0m\u001b[0m\n",
      "\u001b[0;32m~/anaconda3/lib/python3.9/site-packages/sklearn/base.py\u001b[0m in \u001b[0;36m_validate_data\u001b[0;34m(self, X, y, reset, validate_separately, **check_params)\u001b[0m\n\u001b[1;32m    564\u001b[0m             \u001b[0;32mraise\u001b[0m \u001b[0mValueError\u001b[0m\u001b[0;34m(\u001b[0m\u001b[0;34m\"Validation should be done on X, y or both.\"\u001b[0m\u001b[0;34m)\u001b[0m\u001b[0;34m\u001b[0m\u001b[0;34m\u001b[0m\u001b[0m\n\u001b[1;32m    565\u001b[0m         \u001b[0;32melif\u001b[0m \u001b[0;32mnot\u001b[0m \u001b[0mno_val_X\u001b[0m \u001b[0;32mand\u001b[0m \u001b[0mno_val_y\u001b[0m\u001b[0;34m:\u001b[0m\u001b[0;34m\u001b[0m\u001b[0;34m\u001b[0m\u001b[0m\n\u001b[0;32m--> 566\u001b[0;31m             \u001b[0mX\u001b[0m \u001b[0;34m=\u001b[0m \u001b[0mcheck_array\u001b[0m\u001b[0;34m(\u001b[0m\u001b[0mX\u001b[0m\u001b[0;34m,\u001b[0m \u001b[0;34m**\u001b[0m\u001b[0mcheck_params\u001b[0m\u001b[0;34m)\u001b[0m\u001b[0;34m\u001b[0m\u001b[0;34m\u001b[0m\u001b[0m\n\u001b[0m\u001b[1;32m    567\u001b[0m             \u001b[0mout\u001b[0m \u001b[0;34m=\u001b[0m \u001b[0mX\u001b[0m\u001b[0;34m\u001b[0m\u001b[0;34m\u001b[0m\u001b[0m\n\u001b[1;32m    568\u001b[0m         \u001b[0;32melif\u001b[0m \u001b[0mno_val_X\u001b[0m \u001b[0;32mand\u001b[0m \u001b[0;32mnot\u001b[0m \u001b[0mno_val_y\u001b[0m\u001b[0;34m:\u001b[0m\u001b[0;34m\u001b[0m\u001b[0;34m\u001b[0m\u001b[0m\n",
      "\u001b[0;32m~/anaconda3/lib/python3.9/site-packages/sklearn/utils/validation.py\u001b[0m in \u001b[0;36mcheck_array\u001b[0;34m(array, accept_sparse, accept_large_sparse, dtype, order, copy, force_all_finite, ensure_2d, allow_nd, ensure_min_samples, ensure_min_features, estimator)\u001b[0m\n\u001b[1;32m    798\u001b[0m \u001b[0;34m\u001b[0m\u001b[0m\n\u001b[1;32m    799\u001b[0m         \u001b[0;32mif\u001b[0m \u001b[0mforce_all_finite\u001b[0m\u001b[0;34m:\u001b[0m\u001b[0;34m\u001b[0m\u001b[0;34m\u001b[0m\u001b[0m\n\u001b[0;32m--> 800\u001b[0;31m             \u001b[0m_assert_all_finite\u001b[0m\u001b[0;34m(\u001b[0m\u001b[0marray\u001b[0m\u001b[0;34m,\u001b[0m \u001b[0mallow_nan\u001b[0m\u001b[0;34m=\u001b[0m\u001b[0mforce_all_finite\u001b[0m \u001b[0;34m==\u001b[0m \u001b[0;34m\"allow-nan\"\u001b[0m\u001b[0;34m)\u001b[0m\u001b[0;34m\u001b[0m\u001b[0;34m\u001b[0m\u001b[0m\n\u001b[0m\u001b[1;32m    801\u001b[0m \u001b[0;34m\u001b[0m\u001b[0m\n\u001b[1;32m    802\u001b[0m     \u001b[0;32mif\u001b[0m \u001b[0mensure_min_samples\u001b[0m \u001b[0;34m>\u001b[0m \u001b[0;36m0\u001b[0m\u001b[0;34m:\u001b[0m\u001b[0;34m\u001b[0m\u001b[0;34m\u001b[0m\u001b[0m\n",
      "\u001b[0;32m~/anaconda3/lib/python3.9/site-packages/sklearn/utils/validation.py\u001b[0m in \u001b[0;36m_assert_all_finite\u001b[0;34m(X, allow_nan, msg_dtype)\u001b[0m\n\u001b[1;32m    112\u001b[0m         ):\n\u001b[1;32m    113\u001b[0m             \u001b[0mtype_err\u001b[0m \u001b[0;34m=\u001b[0m \u001b[0;34m\"infinity\"\u001b[0m \u001b[0;32mif\u001b[0m \u001b[0mallow_nan\u001b[0m \u001b[0;32melse\u001b[0m \u001b[0;34m\"NaN, infinity\"\u001b[0m\u001b[0;34m\u001b[0m\u001b[0;34m\u001b[0m\u001b[0m\n\u001b[0;32m--> 114\u001b[0;31m             raise ValueError(\n\u001b[0m\u001b[1;32m    115\u001b[0m                 msg_err.format(\n\u001b[1;32m    116\u001b[0m                     \u001b[0mtype_err\u001b[0m\u001b[0;34m,\u001b[0m \u001b[0mmsg_dtype\u001b[0m \u001b[0;32mif\u001b[0m \u001b[0mmsg_dtype\u001b[0m \u001b[0;32mis\u001b[0m \u001b[0;32mnot\u001b[0m \u001b[0;32mNone\u001b[0m \u001b[0;32melse\u001b[0m \u001b[0mX\u001b[0m\u001b[0;34m.\u001b[0m\u001b[0mdtype\u001b[0m\u001b[0;34m\u001b[0m\u001b[0;34m\u001b[0m\u001b[0m\n",
      "\u001b[0;31mValueError\u001b[0m: Input contains NaN, infinity or a value too large for dtype('float64')."
     ]
    }
   ],
   "source": [
    "X = df_sample[['Latitude','Longitude']]\n",
    "model = KMeans(random_state=42)\n",
    "visualizer = KElbowVisualizer(estimator = model, k = (2,10))\n",
    "visualizer.fit(X)\n",
    "visualizer.poof()"
   ]
  },
  {
   "cell_type": "code",
   "execution_count": null,
   "id": "880969fa",
   "metadata": {},
   "outputs": [],
   "source": []
  }
 ],
 "metadata": {
  "kernelspec": {
   "display_name": "Python 3 (ipykernel)",
   "language": "python",
   "name": "python3"
  },
  "language_info": {
   "codemirror_mode": {
    "name": "ipython",
    "version": 3
   },
   "file_extension": ".py",
   "mimetype": "text/x-python",
   "name": "python",
   "nbconvert_exporter": "python",
   "pygments_lexer": "ipython3",
   "version": "3.9.7"
  }
 },
 "nbformat": 4,
 "nbformat_minor": 5
}
